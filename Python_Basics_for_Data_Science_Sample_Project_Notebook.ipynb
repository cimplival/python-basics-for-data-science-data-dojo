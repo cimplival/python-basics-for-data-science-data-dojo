{
  "nbformat": 4,
  "nbformat_minor": 0,
  "metadata": {
    "colab": {
      "name": "Python Basics for Data Science: Sample Project Notebook",
      "provenance": [],
      "collapsed_sections": [],
      "toc_visible": true,
      "authorship_tag": "ABX9TyPYIBZuasoCdUD9BRE2DPWe",
      "include_colab_link": true
    },
    "kernelspec": {
      "name": "python3",
      "display_name": "Python 3"
    }
  },
  "cells": [
    {
      "cell_type": "markdown",
      "metadata": {
        "id": "view-in-github",
        "colab_type": "text"
      },
      "source": [
        "<a href=\"https://colab.research.google.com/github/cimplival/sample-project-python-basics-for-data-science/blob/master/Python_Basics_for_Data_Science_Sample_Project_Notebook.ipynb\" target=\"_parent\"><img src=\"https://colab.research.google.com/assets/colab-badge.svg\" alt=\"Open In Colab\"/></a>"
      ]
    },
    {
      "cell_type": "markdown",
      "metadata": {
        "id": "WAJeH2M78RA9",
        "colab_type": "text"
      },
      "source": [
        "# Python Basics for Data Science: Practice Template"
      ]
    },
    {
      "cell_type": "markdown",
      "metadata": {
        "id": "TlR8s9608XeD",
        "colab_type": "text"
      },
      "source": [
        "ShippingtoMali, a shipping company, provides shipping to Mali for items bought on Amazon at a rate of `$4` for the first item and `$2` for each subsequent item with each of those items is also subject to import 10% tax. During this time, they also have a $10 discount for orders worth above `$500`.\n",
        "\n",
        "Write a python program that prints out how much one would spend for both purchase and shipping of the given items from the given data that is stored in the lists provided.\n",
        "\n",
        "Hints:\n",
        "We can write two functions to provide a solution to this problem. \n",
        "\n",
        "* One function can iterate over the price list applying the respective tax and appending the result to the total_cost list.\n",
        "\n",
        "* The other function can take the number of items in an order as its only parameter then return the cost of shipping the function's result. This function would only display the shipping charge."
      ]
    },
    {
      "cell_type": "code",
      "metadata": {
        "id": "O2Q7VRSR8JhZ",
        "colab_type": "code",
        "colab": {
          "base_uri": "https://localhost:8080/",
          "height": 34
        },
        "outputId": "fe257732-c4fa-4b91-80e5-a87a25996e13"
      },
      "source": [
        "# Our solution\n",
        "# ---\n",
        "#\n",
        "\n",
        "# Defining our lists\n",
        "# ---\n",
        "#\n",
        "orders = ['item 1', 'item 2', 'item 3', 'item 4', 'item 5', 'item 6', 'item 7']\n",
        "price = [120, 32, 99, 49, 99, 75, 30.99]\n",
        "total_cost = []\n",
        "\n",
        "# Determining the total cost of each items and storing in total cost list\n",
        "# ---\n",
        "#\n",
        "def determine_total_cost():\n",
        "  for x in price:\n",
        "    total_cost.append(x * 1.10)\n",
        "\n",
        "# Calling our function\n",
        "# This will execute our function to determine the total cost of each item\n",
        "# ---\n",
        "#\n",
        "determine_total_cost()\n",
        "\n",
        "# Creating a function to determining the total cost of shipping\n",
        "# Parameters: no_items in the orders list\n",
        "# ---\n",
        "def shipping_cost(num_of_items):\n",
        "  cost_of_shipping = 4 + (2 * num_of_items)\n",
        "  return cost_of_shipping\n",
        " \n",
        "# Calculating our final total cost by summing our shipping and total cost\n",
        "# Hint: use sum() and len() function\n",
        "# ---\n",
        "#\n",
        "total_cost = sum(price) + shipping_cost(len(orders))\n",
        "\n",
        "# Applying the discount through the use of an if statement\n",
        "if total_cost > 500:\n",
        "  total_cost = total_cost - 10\n",
        "\n",
        "print(\"Total cost: USD\", total_cost)"
      ],
      "execution_count": 14,
      "outputs": [
        {
          "output_type": "stream",
          "text": [
            "Total cost: USD 512.99\n"
          ],
          "name": "stdout"
        }
      ]
    }
  ]
}